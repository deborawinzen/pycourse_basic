{
 "cells": [
  {
   "cell_type": "code",
   "execution_count": null,
   "metadata": {},
   "outputs": [],
   "source": [
    "#unit 4.1 dict \n",
    "#var ={key1: value, key2: value, key3: value}\n"
   ]
  },
  {
   "cell_type": "code",
   "execution_count": 26,
   "metadata": {},
   "outputs": [
    {
     "name": "stdout",
     "output_type": "stream",
     "text": [
      "{'Arianna ': 19, 'Alexia ': 25, 'Alyx ': 20} <class 'dict'>\n",
      "[{'name': 'Arianna ', 'age ': 19}, {'name': 'Alexia ', 'age ': 25}, {'name': 'Alyx', 'age': 20}]\n",
      "{'Alexia': 'daughter of Ashford', 'age': 25, 'code list ': [1, 9, 8, 9], 'code dictionary': {'T ': 0, 'T-Veronica': 1.2}}\n"
     ]
    }
   ],
   "source": [
    "#INTRODUCTION\n",
    "#recall the \"list \"\n",
    "name = [\"Arianna\", \"Alexia\", \"Alyx\"]\n",
    "age =[19,25, 20]\n",
    "'''there is no one-one reflection becoz 'list' only tell the sequence but don't really match one value to one index  '''\n",
    "\n",
    "#typical \"dict\" \n",
    "dic={\"Arianna \":19, \"Alexia \":25, \"Alyx \":20}\n",
    "print (dic, type (dic))\n",
    "\n",
    "'''here 'dic' is a var name, \"dict\" is var's type \n",
    "\n",
    "   key-value is one-one reflection \n",
    "   key>= value \n",
    "   \"key\" must be the only but \"value\" doesn't need to \n",
    "   \n",
    "   NOTE: \"list\" has sequence but \"dict\" doesn't     \n",
    "'''\n",
    "   \n",
    "#here is a 'list' containing 3 'dict' as elements \n",
    "dic =[{\"name\": \"Arianna \", \"age \": 19}, {\"name\": \"Alexia \", \"age \": 25}, {\"name\":\"Alyx\", \"age\":20}]\n",
    "print (dic)\n",
    "\n",
    "#in 'dict', key can refer to any type \n",
    "#                string                      number              list                           dict    \n",
    "dic ={\"Alexia\": \"daughter of Ashford\", \"age\": 25, \"code list \": [1, 9, 8, 9], \"code dictionary\":{'T ': 0, 'T-Veronica': 1.2}}\n",
    "print (dic)\n"
   ]
  },
  {
   "cell_type": "code",
   "execution_count": 29,
   "metadata": {},
   "outputs": [
    {
     "name": "stdout",
     "output_type": "stream",
     "text": [
      "{'a': 2}\n"
     ]
    },
    {
     "data": {
      "text/plain": [
       "'only the last value wil be remembered'"
      ]
     },
     "execution_count": 29,
     "metadata": {},
     "output_type": "execute_result"
    }
   ],
   "source": [
    "#CHARACTERS\n",
    "\n",
    "#[1] key must have a value to match with, can't be empty \n",
    "#dic={\"Arianna \":19, \"Alexia \":25, \"Alyx \":} \n",
    "'''syntax error\n",
    "   it can be '0' but the key 'Alyx' must have a value \n",
    "'''\n",
    "\n",
    "#[2]one 'key ' only can be used once while 'value ' don't have to \n",
    "dic ={'a':1, 'a':2}\n",
    "print (dic ) \n",
    "'''only the last value wil be remembered'''"
   ]
  },
  {
   "cell_type": "code",
   "execution_count": 21,
   "metadata": {},
   "outputs": [
    {
     "name": "stdout",
     "output_type": "stream",
     "text": [
      "{'a': 2}\n"
     ]
    }
   ],
   "source": [
    "#[2]one 'key ' only can be used once while 'value ' don't have to \n",
    "dic ={'a':1, 'a':2}\n",
    "print (dic ) '''only the last value wil be remembered'''"
   ]
  },
  {
   "cell_type": "code",
   "execution_count": 33,
   "metadata": {},
   "outputs": [
    {
     "name": "stdout",
     "output_type": "stream",
     "text": [
      "{'Arianna ': 19, 'Alexia ': 25, 'Alyx ': 20, 'Edward ': 49, 'Veroinca': 312}\n",
      "{'Arianna ': 19, 'Alexia ': 25, 'Alyx ': 20, 'Veroinca': 312}\n",
      "{}\n"
     ]
    }
   ],
   "source": [
    "#ADD & DELETE\n",
    "dic={\"Arianna \":19, \"Alexia \":25, \"Alyx \":20}\n",
    "\n",
    "dic [\"Edward \"]= 49 #add one element (key)\n",
    "dic[\"Veroinca\"]=312\n",
    "print (dic )\n",
    "\n",
    "del dic[\"Edward \"] #delete one element (key)\n",
    "print (dic )\n",
    "\n",
    "\n",
    "'''what we add /delete is the key and its matched value not the value itself\n",
    "   so we only need to declare key's name \n",
    "'''\n",
    "\n",
    "dic. clear () #clear all the elements in the dict \n",
    "print (dic )\n",
    "\n",
    "del dic      #delete the var \n",
    "#print (dic )\n"
   ]
  },
  {
   "cell_type": "code",
   "execution_count": 50,
   "metadata": {},
   "outputs": [
    {
     "name": "stdout",
     "output_type": "stream",
     "text": [
      "{'Arianna': 19, 'Alexia': 25, 'Alyx': 20}\n",
      "{'a': 'apple', 'b': 'banana '} {'c': 1, 'd': 2, 'l': 100} {'e': [1, 2, 3], 'd': [4, 5, 6]}\n",
      "{'a': None, 'b': None, 'c': None} {'a': 0, 'b': 0, 'c': 0}\n"
     ]
    }
   ],
   "source": [
    "#DECALRE\n",
    "\n",
    "#[1] refer to a var directly \n",
    "dic={\"Arianna \":19, \"Alexia \":25, \"Alyx \":20}\n",
    "\n",
    "#[2]\"dict() \"\n",
    "\n",
    "dic = dict (Arianna=19, Alexia=25, Alyx=20)\n",
    "print (dic )\n",
    "\n",
    "'''less likely use becoz can't use the vars directly\n",
    "   ex:\n",
    "   Arianna = 19\n",
    "   Alexia =25, \n",
    "   Alyx =20\n",
    "   dic =dict (Arianna, Alexia, Alyx) (x)\n",
    "'''\n",
    "\n",
    "#[3]combined list + dict ()\n",
    "lst1 =[(\"a\",\"apple\"), (\"b\",\"banana \")]\n",
    "lst2= [(\"c\",1 ), (\"d\", 2), (\"l\", 10*10)]\n",
    "lst3= ((\"e\", [1, 2, 3]), (\"d\", [4,5,6]))\n",
    "\n",
    "'''\n",
    "   [combined list form]\n",
    "   var is strictly decalred:\n",
    "   var = [(,),(,),...]\n",
    "   in (,), must only have TWO elements becoz it will be regared as key & value by default \n",
    "\n",
    "'''\n",
    "\n",
    "dic1=dict(lst1)\n",
    "dic2=dict(lst2)\n",
    "dic3=dict(lst3)\n",
    "\n",
    "print (dic1, dic2, dic3)\n",
    "\n",
    "#[4]'dict.feomkeys'\n",
    "\n",
    "keys =['a', 'b', 'c']\n",
    "dic4= dict.fromkeys(keys )\n",
    "dic5= dict.fromkeys(keys, 0) #this mathod can only define one fixed value \n",
    "print (dic4, dic5)"
   ]
  },
  {
   "cell_type": "code",
   "execution_count": null,
   "metadata": {},
   "outputs": [],
   "source": [
    "#TAKE AWAYS \n",
    "'''\n",
    "in pandas, 'dict ' will be less used \n",
    "\n",
    "1. dict has no sequence, it's defined as the only and one key -value reflection \n",
    "\n",
    "2. dict() cannot define the var directly \n",
    "\n",
    "3. usually use combined list & dict() together to decalre a dictionary \n",
    " \n",
    "\n",
    "\n",
    "\n",
    "\n",
    "\n",
    "\n",
    "\n",
    "\n",
    "\n",
    "\n",
    "\n",
    "\n",
    "\n",
    "\n",
    "'''"
   ]
  }
 ],
 "metadata": {
  "kernelspec": {
   "display_name": "Python 3",
   "language": "python",
   "name": "python3"
  },
  "language_info": {
   "codemirror_mode": {
    "name": "ipython",
    "version": 3
   },
   "file_extension": ".py",
   "mimetype": "text/x-python",
   "name": "python",
   "nbconvert_exporter": "python",
   "pygments_lexer": "ipython3",
   "version": "3.7.3"
  }
 },
 "nbformat": 4,
 "nbformat_minor": 2
}
